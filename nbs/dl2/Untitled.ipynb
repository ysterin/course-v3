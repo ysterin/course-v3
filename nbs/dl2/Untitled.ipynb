{
 "cells": [
  {
   "cell_type": "code",
   "execution_count": 1,
   "metadata": {},
   "outputs": [],
   "source": [
    "from fastai import datasets\n",
    "import numpy as np\n",
    "import dynet_config\n",
    "dynet_config.set(autobatch=True)\n",
    "import dynet as dy"
   ]
  },
  {
   "cell_type": "code",
   "execution_count": 3,
   "metadata": {},
   "outputs": [
    {
     "ename": "TypeError",
     "evalue": "download_data() missing 1 required positional argument: 'url'",
     "output_type": "error",
     "traceback": [
      "\u001b[0;31m---------------------------------------------------------------------------\u001b[0m",
      "\u001b[0;31mTypeError\u001b[0m                                 Traceback (most recent call last)",
      "\u001b[0;32m<ipython-input-3-a23862a10cf9>\u001b[0m in \u001b[0;36m<module>\u001b[0;34m\u001b[0m\n\u001b[0;32m----> 1\u001b[0;31m \u001b[0mpath\u001b[0m \u001b[0;34m=\u001b[0m \u001b[0mdatasets\u001b[0m\u001b[0;34m.\u001b[0m\u001b[0mdownload_data\u001b[0m\u001b[0;34m(\u001b[0m\u001b[0;34m)\u001b[0m\u001b[0;34m\u001b[0m\u001b[0;34m\u001b[0m\u001b[0m\n\u001b[0m\u001b[1;32m      2\u001b[0m \u001b[0mpath\u001b[0m\u001b[0;34m\u001b[0m\u001b[0;34m\u001b[0m\u001b[0m\n",
      "\u001b[0;31mTypeError\u001b[0m: download_data() missing 1 required positional argument: 'url'"
     ]
    }
   ],
   "source": [
    "path = datasets.download_data()\n",
    "path"
   ]
  },
  {
   "cell_type": "code",
   "execution_count": 27,
   "metadata": {},
   "outputs": [
    {
     "name": "stdout",
     "output_type": "stream",
     "text": [
      "  % Total    % Received % Xferd  Average Speed   Time    Time     Time  Current\n",
      "                                 Dload  Upload   Total   Spent    Left  Speed\n",
      "100 3974k  100 3974k    0     0  4654k      0 --:--:-- --:--:-- --:--:-- 4654k\n"
     ]
    }
   ],
   "source": [
    "!curl https://s3.amazonaws.com/fast-ai-nlp/wikitext-2.tgz -o wikitext.tgz"
   ]
  },
  {
   "cell_type": "code",
   "execution_count": 33,
   "metadata": {},
   "outputs": [
    {
     "name": "stdout",
     "output_type": "stream",
     "text": [
      "wikitext-2/\n",
      "wikitext-2/train.csv\n",
      "wikitext-2/test.csv\n"
     ]
    }
   ],
   "source": [
    "!rm wikitext\n",
    "!mkdir wikitext\n",
    "!tar -xzvf wikitext.tgz -C wikitext"
   ]
  },
  {
   "cell_type": "code",
   "execution_count": 35,
   "metadata": {},
   "outputs": [
    {
     "name": "stdout",
     "output_type": "stream",
     "text": [
      "\" \n",
      " = 2013 – 14 York City F.C. season = \n",
      " \n",
      " The 2013 – 14 season was the <unk> season of competitive association football a\n",
      "nd 77th season in the Football League played by York City Football Club , a prof\n",
      "essional football club based in York , North Yorkshire , England . Their 17th @-\n",
      "@ place finish in 2012 – 13 meant it was their second consecutive season in Leag\n",
      "ue Two . The season ran from 1 July 2013 to 30 June 2014 . \n",
      " Nigel Worthington , starting his first full season as York manager , made eight\n",
      " permanent summer signings . By the turn of the year York were only above the re\n",
      "legation zone on goal difference , before a 17 @-@ match unbeaten run saw the te\n",
      "am finish in seventh @-@ place in the 24 @-@ team 2013 – 14 Football League Two \n",
      ". This meant York qualified for the play @-@ offs , and they were eliminated in \n",
      "the semi @-@ final by Fleetwood Town . York were knocked out of the 2013 – 14 FA\n",
      " Cup , Football League Cup and Football League Trophy in their opening round mat\n",
      "ches . \n",
      " 35 players made at least one appearance in nationally organised first @-@ team \n",
      "competition , and there were 12 different <unk> . Defender Ben Davies missed onl\n",
      "y five of the fifty @-@ two competitive matches played over the season . Wes Fle\n",
      "tcher finished as leading scorer with 13 goals , of which 10 came in league comp\n",
      "etition and three came in the FA Cup . The winner of the <unk> of the Year award\n",
      " , voted for by the club 's supporters , was <unk> Oyebanjo . \n",
      " \n",
      "\u001b[Km--More--(0%)\u001b[m"
     ]
    }
   ],
   "source": [
    "!more wikitext/wikitext-2/train.csv"
   ]
  },
  {
   "cell_type": "code",
   "execution_count": 2,
   "metadata": {},
   "outputs": [],
   "source": [
    "class Dataset:\n",
    "    def __init__(self, xs, ys, shuffle=True):\n",
    "        assert len(xs) == len(ys)\n",
    "        self.xs, self.ys = xs, ys\n",
    "        \n",
    "    def __len__(self):\n",
    "        return len(self.xs)\n",
    "    def __getitem__(self, i):\n",
    "        try:\n",
    "            return self.xs[i], self.ys[i]\n",
    "        except TypeError:\n",
    "            return list(zip(*[self[_i] for _i in i]))\n",
    "    def __iter__(self):\n",
    "        if self.shuffle: idxs = np.random.permutation(len(self))\n",
    "        else:       idxs = list(range(len(self)))\n",
    "        for i in range(len(self)):\n",
    "            yield self[idxs[i]]\n",
    "    def iter_batches(self, bs=64, shuffle=True):\n",
    "        if shuffle: idxs = np.random.permutation(len(self))\n",
    "        else:       idxs = list(range(len(self)))\n",
    "        batch_start = 0\n",
    "        while batch_start<len(self):\n",
    "            yield self[batch_start:batch_start+bs]\n",
    "            batch_start += bs\n",
    "            \n",
    "    def dataloader(self, bs=64, shuffle=True):\n",
    "        return Dataloader(self, bs, shuffle)\n",
    "            \n",
    "    \n",
    "\n",
    "class Dataloader:\n",
    "    def __init__(self, dataset, bs=64, shuffle=True):\n",
    "        self.ds = dataset\n",
    "        self.bs = bs\n",
    "        self.shuffle = shuffle\n",
    "        \n",
    "    def __len__(self):\n",
    "        return int(np.ceil(len(self.ds)/self.bs))\n",
    "        \n",
    "    def __iter__(self):\n",
    "        if self.shuffle: idxs = np.random.permutation(len(self.ds))\n",
    "        else:       idxs = list(range(len(self.ds)))\n",
    "        batch_start = 0\n",
    "        while batch_start<len(self.ds):\n",
    "            bx, by = self.ds[idxs[batch_start:batch_start+self.bs]]\n",
    "            yield list(bx), by\n",
    "            batch_start += self.bs\n",
    "        \n",
    "class Databunch:\n",
    "    def __init__(self, train_ds, valid_ds, test_ds=None, bs=64):\n",
    "        self.train_ds, self.valid_ds, self.test_ds = train_ds, valid_ds, test_ds\n",
    "        self.train_dl = self.train_ds.dataloader(bs, shuffle=True)\n",
    "        self.valid_dl = self.valid_ds.dataloader(bs, shuffle=False)\n",
    "        if self.test_ds:\n",
    "            self.test_dl = self.test_ds.iter_batches(bs, shuffle=False)"
   ]
  },
  {
   "cell_type": "code",
   "execution_count": 3,
   "metadata": {},
   "outputs": [
    {
     "data": {
      "text/plain": [
       "[array([657, 549, 695, 413, ..., 222, 574, 610, 414]),\n",
       " array([876, 906, 713,   0, ..., 372, 406, 380, 409]),\n",
       " array([182, 252, 515, 449, ..., 975, 547,  93, 144]),\n",
       " array([485, 518, 978, 637, ..., 132, 786, 205, 361]),\n",
       " array([331,  49, 101, 359, ...,  67, 246, 762, 278]),\n",
       " array([150,  92, 903, 507, ..., 213, 540, 970, 940]),\n",
       " array([822, 468, 422,  49, ..., 122,  71, 546,  88]),\n",
       " array([892, 805,  62, 500, ...,  94, 420, 674, 554]),\n",
       " array([726, 528, 838,  97, ..., 562, 509, 196, 311]),\n",
       " array([436, 703, 181, 829, ..., 331, 832, 600, 475]),\n",
       " array([873, 556, 400,  78, ..., 960, 687, 723, 857]),\n",
       " array([122, 134, 490, 356, ..., 440, 836, 889,  48]),\n",
       " array([538, 412, 290, 426, ..., 367, 612, 995, 938]),\n",
       " array([611, 854, 930, 458, ..., 681, 974, 244, 398]),\n",
       " array([668, 271, 614, 703, ..., 937, 205, 287, 850]),\n",
       " array([266, 260, 198, 804, 121, 905, 783,  89, 825,  10,  41, 549, 922, 730, 520, 699, 505, 506, 504, 544, 119, 373,\n",
       "        586, 765, 506, 912, 724, 878, 658, 644,  41, 819, 191, 187, 323, 130, 776, 844,  67, 780,  83, 822, 781, 199,\n",
       "        417,  18, 951, 703, 788, 605]),\n",
       " array([366, 661, 854, 935, ..., 399, 923, 522, 192]),\n",
       " array([ 23, 295,  41, 810, ..., 617, 336, 211, 407]),\n",
       " array([503, 305, 117, 313, ..., 581, 694,  91, 602]),\n",
       " array([667,  46, 820, 373, ..., 644, 925, 256, 574]),\n",
       " array([311, 165, 207, 922, ..., 588, 626, 278, 323]),\n",
       " array([214, 786, 300, 290, ..., 536, 599, 877,  31]),\n",
       " array([943, 492, 580, 642, ..., 533, 634,  56, 342]),\n",
       " array([566, 188, 321, 656, ..., 780, 592,  42, 262]),\n",
       " array([183, 511, 133, 650, ...,  65,  19, 852, 603]),\n",
       " array([326, 178, 697, 864, ..., 793, 439, 724, 184]),\n",
       " array([252, 607, 598, 864, ..., 328, 773, 909, 466]),\n",
       " array([732,  20, 800, 196, ..., 300,  60, 623,  35]),\n",
       " array([956,  56,  52, 593, ..., 743, 274, 667, 296]),\n",
       " array([632, 994, 255, 489, ..., 884, 238, 329, 179]),\n",
       " array([370, 317, 717,  91, ..., 367, 245, 468, 217]),\n",
       " array([ 40, 498, 226, 346, 653, 419, 122, 500, 899, 637, 332, 600,  84, 812, 310, 751, 673,  54, 355, 142, 198, 219,\n",
       "        651,   8, 363, 811, 358, 756, 819, 783, 276, 641, 934, 818,  64, 376, 439, 375, 263, 131, 440, 596, 988, 525,\n",
       "        816, 396,  38, 446, 271, 281]),\n",
       " array([837, 146, 282, 873, ..., 494, 542,  63, 950]),\n",
       " array([ 58, 201, 966, 402, ..., 176, 539, 554, 792]),\n",
       " array([675, 395, 850, 485, ..., 781, 537, 965, 461]),\n",
       " array([321, 973, 571, 445, ..., 357, 938, 341, 109]),\n",
       " array([329, 521, 829,  16, ..., 911, 830, 569, 819]),\n",
       " array([692,  83, 461, 902, ..., 426, 498, 582, 242]),\n",
       " array([296, 518, 943, 663, ..., 208, 597, 782, 288]),\n",
       " array([294, 138, 332,  95, ..., 269, 593,   0, 613]),\n",
       " array([589, 256, 912, 298, ..., 490, 330, 567, 277]),\n",
       " array([473, 880, 287, 640, ..., 320, 414, 482, 130]),\n",
       " array([138, 114, 189,  53, ...,  73, 928, 291,  17]),\n",
       " array([855, 308, 442, 250, ..., 596, 808, 285, 964]),\n",
       " array([419, 139, 196, 310, ..., 160,  87, 467, 742]),\n",
       " array([498, 119,  26, 527, ..., 897, 829, 830,  95]),\n",
       " array([503, 703, 583,  83, ..., 601, 145, 415, 835]),\n",
       " array([557, 774, 861, 301, ..., 680, 231, 763, 434]),\n",
       " array([558, 228,  63, 942, ..., 353, 152, 554, 178]),\n",
       " array([804, 270, 306, 545, ..., 359, 571, 199, 402]),\n",
       " array([601, 122, 744,  91, ..., 701, 856, 121, 778]),\n",
       " array([  3, 339, 492, 222, ..., 768, 875, 128, 852]),\n",
       " array([840, 868, 645,  43, ...,  57, 705, 729, 447]),\n",
       " array([688, 752, 269, 258, ..., 351, 232, 946, 304]),\n",
       " array([958,  41, 765, 705, ..., 886, 354, 433, 831]),\n",
       " array([381, 792, 253, 487, ..., 961, 477, 808, 272]),\n",
       " array([888, 172,  63,  62, ..., 812, 788, 810, 674]),\n",
       " array([252, 144, 758, 243, 511, 283,  17, 443, 945, 798,  29,  70, 825, 647, 824, 374, 254, 776, 638,  79, 952, 524,\n",
       "        881, 896, 451, 777, 263, 654,  97, 943,  46, 568, 679, 316, 910, 919, 357, 276, 741,  73, 900, 863,  18, 825,\n",
       "        466, 683, 974, 838, 412, 375]),\n",
       " array([ 72, 280,  87, 487, ..., 778, 958, 648, 563]),\n",
       " array([423, 656, 433, 371, ..., 624, 102,  22, 708]),\n",
       " array([296, 359, 319, 373, ..., 599, 174, 894, 652]),\n",
       " array([191, 851, 245, 207, ..., 662, 764, 489, 115]),\n",
       " array([446,   9, 403, 311, ..., 131, 552, 518, 632]),\n",
       " array([910,  25, 779, 307, ..., 777, 334,  45, 872]),\n",
       " array([834, 673, 113, 437, ..., 188, 688, 831, 789]),\n",
       " array([120, 516, 622, 955, ..., 866, 970, 315, 546]),\n",
       " array([309, 398, 489, 775, ..., 455, 947, 615, 168]),\n",
       " array([527, 163, 294, 313, ..., 301, 353, 901, 560]),\n",
       " array([357, 117, 776, 889, ..., 638, 898, 396, 368]),\n",
       " array([790, 499, 605, 761, ..., 589, 292, 727, 202]),\n",
       " array([610, 753, 450, 778, ..., 568, 833, 684, 789]),\n",
       " array([102, 203, 591, 945, ..., 412, 752, 663, 620]),\n",
       " array([ 93,   7, 295,  92, ...,  35, 394, 123, 112]),\n",
       " array([931, 678, 438, 836, ..., 537,  28,  33, 917]),\n",
       " array([504, 702, 123,  11, ..., 161, 908, 458, 591]),\n",
       " array([796, 163, 563, 824, ...,  86, 204, 471, 321]),\n",
       " array([252, 825, 691, 913, ..., 102, 726, 603,  50]),\n",
       " array([589, 288, 868, 643, ..., 910, 776,  83, 208]),\n",
       " array([240,  99,  96, 752, ..., 213, 703, 234, 717]),\n",
       " array([803, 610, 546, 938, ..., 590, 870, 617, 746]),\n",
       " array([827, 284, 469, 144, ..., 586, 706, 593, 509]),\n",
       " array([339, 778, 705, 874, ..., 650, 306, 756, 725]),\n",
       " array([125,  21,  59, 849, 588, 842, 483, 967, 495, 175, 809, 605, 248,  52, 217, 903, 953, 215, 473, 974, 789, 424,\n",
       "        373, 220, 266, 145, 433, 826, 427, 262,  39,  83, 175, 474, 523, 462, 509, 342, 284, 109, 997,  83, 276, 927,\n",
       "        781, 815, 197, 106, 906, 972]),\n",
       " array([562, 930, 433, 922, ..., 883, 255,  84, 703]),\n",
       " array([115,  47, 973, 405, ...,  65, 390, 664, 104]),\n",
       " array([ 93, 743, 543, 483, ..., 392, 278, 559, 801]),\n",
       " array([105, 661,  63, 956, ..., 286, 259, 222, 789]),\n",
       " array([823, 263,  62, 874, ..., 579, 751, 163, 640]),\n",
       " array([471, 426, 147, 852, ..., 870, 852, 564, 225]),\n",
       " array([ 98, 243, 552, 327, ...,  44, 215, 635, 346]),\n",
       " array([ 19, 842, 767,  88, ..., 649, 314, 948, 208]),\n",
       " array([595, 662, 269, 737, ..., 100, 465, 465, 852]),\n",
       " array([541, 801, 675, 342, ..., 868, 101, 582, 226]),\n",
       " array([115, 669, 464, 686, ..., 926, 360, 998, 136]),\n",
       " array([283, 411, 187, 548, ..., 845, 481, 623, 761]),\n",
       " array([839, 472, 160, 800, ..., 929, 736, 452, 631]),\n",
       " array([591, 359, 634, 838, ..., 584, 618, 135, 327]),\n",
       " array([542, 717, 826, 491, ...,  37, 924, 466, 278]),\n",
       " array([611, 230, 175, 230, ..., 132, 580, 743, 331]),\n",
       " array([151, 474, 370, 345, ..., 248, 789, 249, 251])]"
      ]
     },
     "execution_count": 3,
     "metadata": {},
     "output_type": "execute_result"
    }
   ],
   "source": [
    "sizes = np.random.randint(50, 80, 100)\n",
    "data = [np.random.randint(0, 1000, sz) for sz in sizes]\n",
    "data "
   ]
  },
  {
   "cell_type": "code",
   "execution_count": 4,
   "metadata": {},
   "outputs": [],
   "source": [
    "ds = Dataset(data, data)\n",
    "dl = ds.dataloader()\n",
    "bx, by = next(iter(dl))"
   ]
  },
  {
   "cell_type": "code",
   "execution_count": 5,
   "metadata": {},
   "outputs": [],
   "source": [
    "from fastai_dynet.models import *"
   ]
  },
  {
   "cell_type": "code",
   "execution_count": 6,
   "metadata": {},
   "outputs": [],
   "source": [
    "class RNN(Module):\n",
    "    def __init__(self, n_layers, n_in, n_hid, parent=None, name=None, **kwargs):\n",
    "        super().__init__(parent, name, **kwargs)\n",
    "        self.n_layers, self.n_in, self.n_hid = n_layers, n_in, n_hid\n",
    "        self.builder = dy.SimpleRNNBuilder(n_layers, n_in, n_hid, self.params)\n",
    "        \n",
    "    def __call__(self, xs):\n",
    "        state = self.builder.initial_state([dy.zeros(self.n_hid) for _ in range(self.n_layers)])\n",
    "        self.state = state\n",
    "        return state.transduce(xs)\n",
    "    \n",
    "class RNNLM(Module):\n",
    "    def __init__(self, n_layers, vocab_sz, emb_dim, n_hid, parent=None, name=None):\n",
    "        super().__init__(parent, name)\n",
    "        self.embs = self.params.add_lookup_parameters((vocab_sz, emb_dim))\n",
    "        self.rnn = RNN(n_layers, emb_dim, n_hid)\n",
    "        self.out = Linear(n_hid, vocab_sz, activ=dy.softmax)\n",
    "        \n",
    "    def __call__(self, xs):\n",
    "        inp = [dy.lookup(self.embs, x) for x in xs]\n",
    "        out = self.out(self.rnn(inp))\n",
    "        return out\n",
    "        "
   ]
  },
  {
   "cell_type": "code",
   "execution_count": 12,
   "metadata": {},
   "outputs": [],
   "source": [
    "dy.renew_cg()\n",
    "m = dy.ParameterCollection()\n",
    "embs = m.add_lookup_parameters((1000, 25))\n",
    "out_layer = Linear(32, 1000, None, parent=rnn)"
   ]
  },
  {
   "cell_type": "code",
   "execution_count": 13,
   "metadata": {},
   "outputs": [],
   "source": [
    "inp = [dy.lookup(embs, i) for i in bx[5]]\n"
   ]
  },
  {
   "cell_type": "code",
   "execution_count": 15,
   "metadata": {},
   "outputs": [
    {
     "data": {
      "text/plain": [
       "array([ 0.003626, -0.002804,  0.0373  ,  0.043866, ...,  0.040586,  0.027097,  0.004668, -0.046676])"
      ]
     },
     "execution_count": 15,
     "metadata": {},
     "output_type": "execute_result"
    }
   ],
   "source": [
    "rnn = RNN(1, 25, 32, is_top=True)\n",
    "out = rnn(inp)\n",
    "out_layer(out)[0].npvalue()"
   ]
  },
  {
   "cell_type": "code",
   "execution_count": 69,
   "metadata": {},
   "outputs": [
    {
     "ename": "ValueError",
     "evalue": "Bad dimensions for AffineTransform: [{32} {32,25} {1X78} {32,32} {32}]",
     "output_type": "error",
     "traceback": [
      "\u001b[0;31m---------------------------------------------------------------------------\u001b[0m",
      "\u001b[0;31mValueError\u001b[0m                                Traceback (most recent call last)",
      "\u001b[0;32m<ipython-input-69-388cecd959a4>\u001b[0m in \u001b[0;36m<module>\u001b[0;34m\u001b[0m\n\u001b[0;32m----> 1\u001b[0;31m \u001b[0mrnn\u001b[0m\u001b[0;34m.\u001b[0m\u001b[0mstate\u001b[0m\u001b[0;34m.\u001b[0m\u001b[0mtransduce\u001b[0m\u001b[0;34m(\u001b[0m\u001b[0minp\u001b[0m\u001b[0;34m)\u001b[0m\u001b[0;34m\u001b[0m\u001b[0;34m\u001b[0m\u001b[0m\n\u001b[0m",
      "\u001b[0;32m_dynet.pyx\u001b[0m in \u001b[0;36m_dynet.RNNState.transduce\u001b[0;34m()\u001b[0m\n",
      "\u001b[0;32m_dynet.pyx\u001b[0m in \u001b[0;36m_dynet.RNNState.transduce\u001b[0;34m()\u001b[0m\n",
      "\u001b[0;32m_dynet.pyx\u001b[0m in \u001b[0;36m_dynet._RNNBuilder.add_input_to_prev\u001b[0;34m()\u001b[0m\n",
      "\u001b[0;31mValueError\u001b[0m: Bad dimensions for AffineTransform: [{32} {32,25} {1X78} {32,32} {32}]"
     ]
    }
   ],
   "source": [
    "rnn.state.transduce(inp)"
   ]
  },
  {
   "cell_type": "code",
   "execution_count": 68,
   "metadata": {},
   "outputs": [
    {
     "data": {
      "text/plain": [
       "((25,), 78)"
      ]
     },
     "execution_count": 68,
     "metadata": {},
     "output_type": "execute_result"
    }
   ],
   "source": [
    "inp.dim()"
   ]
  }
 ],
 "metadata": {
  "kernelspec": {
   "display_name": "Python 3",
   "language": "python",
   "name": "python3"
  },
  "language_info": {
   "codemirror_mode": {
    "name": "ipython",
    "version": 3
   },
   "file_extension": ".py",
   "mimetype": "text/x-python",
   "name": "python",
   "nbconvert_exporter": "python",
   "pygments_lexer": "ipython3",
   "version": "3.7.3"
  }
 },
 "nbformat": 4,
 "nbformat_minor": 2
}
